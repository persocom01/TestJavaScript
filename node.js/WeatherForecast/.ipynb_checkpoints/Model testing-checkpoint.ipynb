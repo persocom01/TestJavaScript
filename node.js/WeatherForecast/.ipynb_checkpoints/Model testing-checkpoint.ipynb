{
 "cells": [
  {
   "cell_type": "code",
   "execution_count": 1,
   "metadata": {},
   "outputs": [],
   "source": [
    "import pandas as pd\n",
    "from sklearn.model_selection import train_test_split\n",
    "import xgboost as xgb\n",
    "from sklearn.pipeline import Pipeline\n",
    "from sklearn.model_selection import GridSearchCV\n",
    "from sklearn.metrics import classification_report\n",
    "from sklearn.metrics import confusion_matrix\n",
    "import pickle"
   ]
  },
  {
   "cell_type": "code",
   "execution_count": 2,
   "metadata": {},
   "outputs": [],
   "source": [
    "df = pd.read_csv(\"weather.csv\")"
   ]
  },
  {
   "cell_type": "code",
   "execution_count": 3,
   "metadata": {},
   "outputs": [],
   "source": [
    "# Drop irrelevant columns\n",
    "df = df.drop(['station', 'year'], axis=1)\n",
    "\n",
    "# Fill in any null values.\n",
    "df = (df.ffill()+df.bfill())/2\n",
    "df = df.bfill().ffill()"
   ]
  },
  {
   "cell_type": "code",
   "execution_count": 4,
   "metadata": {},
   "outputs": [],
   "source": [
    "# Feature engineering\n",
    "df['rained_today'] = [0 if x < 0.2 else 1 for x in df['daily_rainfall_total_mm']]\n",
    "df['rained_in_two_days'] = df['rained_today'] + df['rained_today'].shift(1)\n",
    "df['rained_in_three_days'] = df['rained_today'] + df['rained_today'].shift(1) + df['rained_today'].shift(2)\n",
    "df['rained_next_day'] = df['rained_today'].shift(-1)\n",
    "df['rained_next_next_day'] = df['rained_today'].shift(-2)\n",
    "df['next_day_maximum_temperature_c'] = df['maximum_temperature_c'].shift(-1)\n",
    "df['next_next_day_maximum_temperature_c'] = df['maximum_temperature_c'].shift(-2)\n",
    "df['next_day_minimum_temperature_c'] = df['minimum_temperature_c'].shift(-1)\n",
    "df['next_next_day_minimum_temperature_c'] = df['minimum_temperature_c'].shift(-2)"
   ]
  },
  {
   "cell_type": "code",
   "execution_count": 5,
   "metadata": {},
   "outputs": [],
   "source": [
    "df = df.dropna()"
   ]
  },
  {
   "cell_type": "code",
   "execution_count": 6,
   "metadata": {},
   "outputs": [
    {
     "data": {
      "text/plain": [
       "Index(['month', 'day', 'daily_rainfall_total_mm', 'highest_30_min_rainfall_mm',\n",
       "       'highest_60_min_rainfall_mm', 'highest_120_min_rainfall_mm',\n",
       "       'mean_temperature_c', 'maximum_temperature_c', 'minimum_temperature_c',\n",
       "       'mean_wind_speed_kmh', 'max_wind_speed_kmh', 'rained_today',\n",
       "       'rained_in_two_days', 'rained_in_three_days', 'rained_next_day',\n",
       "       'rained_next_next_day', 'next_day_maximum_temperature_c',\n",
       "       'next_next_day_maximum_temperature_c', 'next_day_minimum_temperature_c',\n",
       "       'next_next_day_minimum_temperature_c'],\n",
       "      dtype='object')"
      ]
     },
     "execution_count": 6,
     "metadata": {},
     "output_type": "execute_result"
    }
   ],
   "source": [
    "df.columns"
   ]
  },
  {
   "cell_type": "markdown",
   "metadata": {},
   "source": [
    "# Forecast rain tomorrow"
   ]
  },
  {
   "cell_type": "code",
   "execution_count": 7,
   "metadata": {},
   "outputs": [],
   "source": [
    "features = ['month', 'day', 'rained_today', 'highest_30_min_rainfall_mm',\n",
    "       'highest_60_min_rainfall_mm', 'highest_120_min_rainfall_mm',\n",
    "       'mean_temperature_c', 'maximum_temperature_c', 'minimum_temperature_c',\n",
    "       'mean_wind_speed_kmh', 'max_wind_speed_kmh',\n",
    "       'rained_in_two_days']\n",
    "target = 'rained_next_day'\n",
    "X = df[features]\n",
    "y = df[target].values"
   ]
  },
  {
   "cell_type": "code",
   "execution_count": 8,
   "metadata": {},
   "outputs": [],
   "source": [
    "# Train test split\n",
    "X_train, X_test, y_train, y_test = train_test_split(X, y, random_state=1)"
   ]
  },
  {
   "cell_type": "code",
   "execution_count": 9,
   "metadata": {},
   "outputs": [
    {
     "data": {
      "text/plain": [
       "XGBClassifier(base_score=0.5, booster='gbtree', colsample_bylevel=1,\n",
       "              colsample_bynode=1, colsample_bytree=1, gamma=0,\n",
       "              learning_rate=0.1, max_delta_step=0, max_depth=3,\n",
       "              min_child_weight=1, missing=None, n_estimators=100, n_jobs=1,\n",
       "              nthread=None, objective='binary:logistic', random_state=0,\n",
       "              reg_alpha=0, reg_lambda=1, scale_pos_weight=1, seed=None,\n",
       "              silent=None, subsample=1, verbosity=1)"
      ]
     },
     "execution_count": 9,
     "metadata": {},
     "output_type": "execute_result"
    }
   ],
   "source": [
    "xgb_class = xgb.XGBClassifier()\n",
    "xgb_class.fit(X_train, y_train)"
   ]
  },
  {
   "cell_type": "code",
   "execution_count": 10,
   "metadata": {},
   "outputs": [
    {
     "name": "stdout",
     "output_type": "stream",
     "text": [
      "{'colsample_bytree': 0.8, 'max_depth': 3, 'subsample': 1}\n",
      "0.6242705371838995\n"
     ]
    }
   ],
   "source": [
    "params = {\n",
    "    'max_depth': [1, 3, 5],\n",
    "    'subsample': [.8, 1],\n",
    "    'colsample_bytree': [.8, 1]\n",
    "}\n",
    "gs = GridSearchCV(xgb_class, param_grid=params, cv=5, n_jobs=-1)\n",
    "gs.fit(X_train, y_train)\n",
    "print(gs.best_params_)\n",
    "print(gs.best_score_)"
   ]
  },
  {
   "cell_type": "code",
   "execution_count": 11,
   "metadata": {},
   "outputs": [],
   "source": [
    "# colsample_bytree=0.8, max_depth=1, subsample=0.8\n",
    "xgb_class = xgb.XGBClassifier(colsample_bytree=0.8, max_depth=3, subsample=1)\n",
    "xgb_class.fit(X_train, y_train)\n",
    "pickle.dump(xgb_class, open(r'.\\models\\model_next_day_rainfall.sav', 'wb'))"
   ]
  },
  {
   "cell_type": "code",
   "execution_count": 15,
   "metadata": {},
   "outputs": [],
   "source": [
    "y_pred = xgb_class.predict(X_test)\n",
    "y_base = [0 for x in y_pred]"
   ]
  },
  {
   "cell_type": "code",
   "execution_count": 16,
   "metadata": {},
   "outputs": [
    {
     "name": "stdout",
     "output_type": "stream",
     "text": [
      "classification report:\n",
      "              precision    recall  f1-score   support\n",
      "\n",
      "         0.0       0.66      0.69      0.67       144\n",
      "         1.0       0.63      0.60      0.61       129\n",
      "\n",
      "    accuracy                           0.64       273\n",
      "   macro avg       0.64      0.64      0.64       273\n",
      "weighted avg       0.64      0.64      0.64       273\n",
      "\n"
     ]
    }
   ],
   "source": [
    "print('classification report:')\n",
    "print(classification_report(y_test, y_pred, output_dict=False))"
   ]
  },
  {
   "cell_type": "code",
   "execution_count": 17,
   "metadata": {},
   "outputs": [
    {
     "name": "stdout",
     "output_type": "stream",
     "text": [
      "classification report:\n",
      "              precision    recall  f1-score   support\n",
      "\n",
      "         0.0       0.53      1.00      0.69       144\n",
      "         1.0       0.00      0.00      0.00       129\n",
      "\n",
      "    accuracy                           0.53       273\n",
      "   macro avg       0.26      0.50      0.35       273\n",
      "weighted avg       0.28      0.53      0.36       273\n",
      "\n"
     ]
    }
   ],
   "source": [
    "print('classification report:')\n",
    "print(classification_report(y_test, y_base, output_dict=False))"
   ]
  },
  {
   "cell_type": "code",
   "execution_count": 18,
   "metadata": {},
   "outputs": [
    {
     "name": "stdout",
     "output_type": "stream",
     "text": [
      "confusion matrix:\n",
      "[[99 45]\n",
      " [52 77]]\n"
     ]
    }
   ],
   "source": [
    "print('confusion matrix:')\n",
    "print(confusion_matrix(y_test, y_pred))"
   ]
  },
  {
   "cell_type": "code",
   "execution_count": 19,
   "metadata": {},
   "outputs": [
    {
     "data": {
      "text/plain": [
       "<matplotlib.axes._subplots.AxesSubplot at 0x1ee7523b208>"
      ]
     },
     "execution_count": 19,
     "metadata": {},
     "output_type": "execute_result"
    },
    {
     "data": {
      "image/png": "[encoded data removed]",
      "text/plain": [
       "<Figure size 432x288 with 1 Axes>"
      ]
     },
     "metadata": {
      "needs_background": "light"
     },
     "output_type": "display_data"
    }
   ],
   "source": [
    "xgb.plot_importance(xgb_class, importance_type='gain', max_num_features=10)"
   ]
  },
  {
   "cell_type": "markdown",
   "metadata": {},
   "source": [
    "# Forecast rain in 2 days"
   ]
  },
  {
   "cell_type": "code",
   "execution_count": 20,
   "metadata": {},
   "outputs": [],
   "source": [
    "features = ['month', 'day', 'rained_today', 'highest_30_min_rainfall_mm',\n",
    "       'highest_60_min_rainfall_mm', 'highest_120_min_rainfall_mm',\n",
    "       'mean_temperature_c', 'maximum_temperature_c', 'minimum_temperature_c',\n",
    "       'mean_wind_speed_kmh', 'max_wind_speed_kmh',\n",
    "       'rained_in_three_days']\n",
    "target = 'rained_next_next_day'\n",
    "X = df[features]\n",
    "y = df[target].values"
   ]
  },
  {
   "cell_type": "code",
   "execution_count": 21,
   "metadata": {},
   "outputs": [],
   "source": [
    "# Train test split\n",
    "X_train, X_test, y_train, y_test = train_test_split(X, y, random_state=1)"
   ]
  },
  {
   "cell_type": "code",
   "execution_count": 22,
   "metadata": {},
   "outputs": [
    {
     "data": {
      "text/plain": [
       "XGBClassifier(base_score=0.5, booster='gbtree', colsample_bylevel=1,\n",
       "              colsample_bynode=1, colsample_bytree=1, gamma=0,\n",
       "              learning_rate=0.1, max_delta_step=0, max_depth=3,\n",
       "              min_child_weight=1, missing=None, n_estimators=100, n_jobs=1,\n",
       "              nthread=None, objective='binary:logistic', random_state=0,\n",
       "              reg_alpha=0, reg_lambda=1, scale_pos_weight=1, seed=None,\n",
       "              silent=None, subsample=1, verbosity=1)"
      ]
     },
     "execution_count": 22,
     "metadata": {},
     "output_type": "execute_result"
    }
   ],
   "source": [
    "xgb_class = xgb.XGBClassifier()\n",
    "xgb_class.fit(X_train, y_train)"
   ]
  },
  {
   "cell_type": "code",
   "execution_count": 23,
   "metadata": {},
   "outputs": [
    {
     "data": {
      "text/plain": [
       "{'colsample_bytree': 0.8, 'max_depth': 5, 'subsample': 1}"
      ]
     },
     "execution_count": 23,
     "metadata": {},
     "output_type": "execute_result"
    }
   ],
   "source": [
    "params = {\n",
    "    'max_depth': [1, 3, 5],\n",
    "    'subsample': [.8, 1],\n",
    "    'colsample_bytree': [.8, 1]\n",
    "}\n",
    "gs = GridSearchCV(xgb_class, param_grid=params, cv=5, n_jobs=-1)\n",
    "gs.fit(X_train, y_train)\n",
    "gs.best_params_"
   ]
  },
  {
   "cell_type": "code",
   "execution_count": 24,
   "metadata": {},
   "outputs": [],
   "source": [
    "# colsample_bytree=0.8, max_depth=1, subsample=0.8\n",
    "xgb_class = xgb.XGBClassifier(colsample_bytree=0.8, max_depth=5, subsample=1)\n",
    "xgb_class.fit(X_train, y_train)\n",
    "pickle.dump(xgb_class, open(r'.\\models\\model_next_next_day_rainfall.sav', 'wb'))"
   ]
  },
  {
   "cell_type": "code",
   "execution_count": 25,
   "metadata": {},
   "outputs": [],
   "source": [
    "y_pred = xgb_class.predict(X_test)\n",
    "y_base = [0 for x in y_pred]"
   ]
  },
  {
   "cell_type": "code",
   "execution_count": 26,
   "metadata": {},
   "outputs": [
    {
     "name": "stdout",
     "output_type": "stream",
     "text": [
      "classification report:\n",
      "              precision    recall  f1-score   support\n",
      "\n",
      "         0.0       0.59      0.68      0.63       139\n",
      "         1.0       0.61      0.52      0.56       134\n",
      "\n",
      "    accuracy                           0.60       273\n",
      "   macro avg       0.60      0.60      0.60       273\n",
      "weighted avg       0.60      0.60      0.60       273\n",
      "\n"
     ]
    }
   ],
   "source": [
    "print('classification report:')\n",
    "print(classification_report(y_test, y_pred, output_dict=False))"
   ]
  },
  {
   "cell_type": "code",
   "execution_count": 27,
   "metadata": {},
   "outputs": [
    {
     "name": "stdout",
     "output_type": "stream",
     "text": [
      "classification report:\n",
      "              precision    recall  f1-score   support\n",
      "\n",
      "         0.0       0.51      1.00      0.67       139\n",
      "         1.0       0.00      0.00      0.00       134\n",
      "\n",
      "    accuracy                           0.51       273\n",
      "   macro avg       0.25      0.50      0.34       273\n",
      "weighted avg       0.26      0.51      0.34       273\n",
      "\n"
     ]
    },
    {
     "name": "stderr",
     "output_type": "stream",
     "text": [
      "C:\\Users\\ctoh8\\Anaconda3\\lib\\site-packages\\sklearn\\metrics\\_classification.py:1272: UndefinedMetricWarning: Precision and F-score are ill-defined and being set to 0.0 in labels with no predicted samples. Use `zero_division` parameter to control this behavior.\n",
      "  _warn_prf(average, modifier, msg_start, len(result))\n"
     ]
    }
   ],
   "source": [
    "print('classification report:')\n",
    "print(classification_report(y_test, y_base, output_dict=False))"
   ]
  },
  {
   "cell_type": "code",
   "execution_count": 28,
   "metadata": {},
   "outputs": [
    {
     "name": "stdout",
     "output_type": "stream",
     "text": [
      "confusion matrix:\n",
      "[[94 45]\n",
      " [64 70]]\n"
     ]
    }
   ],
   "source": [
    "print('confusion matrix:')\n",
    "print(confusion_matrix(y_test, y_pred))"
   ]
  },
  {
   "cell_type": "code",
   "execution_count": 29,
   "metadata": {},
   "outputs": [
    {
     "data": {
      "text/plain": [
       "<matplotlib.axes._subplots.AxesSubplot at 0x1ee75392708>"
      ]
     },
     "execution_count": 29,
     "metadata": {},
     "output_type": "execute_result"
    },
    {
     "data": {
      "image/png": "[encoded data removed]",
      "text/plain": [
       "<Figure size 432x288 with 1 Axes>"
      ]
     },
     "metadata": {
      "needs_background": "light"
     },
     "output_type": "display_data"
    }
   ],
   "source": [
    "xgb.plot_importance(xgb_class, importance_type='gain', max_num_features=10)"
   ]
  },
  {
   "cell_type": "code",
   "execution_count": null,
   "metadata": {},
   "outputs": [],
   "source": []
  }
 ],
 "metadata": {
  "kernelspec": {
   "display_name": "Python 3",
   "language": "python",
   "name": "python3"
  },
  "language_info": {
   "codemirror_mode": {
    "name": "ipython",
    "version": 3
   },
   "file_extension": ".py",
   "mimetype": "text/x-python",
   "name": "python",
   "nbconvert_exporter": "python",
   "pygments_lexer": "ipython3",
   "version": "3.7.6"
  }
 },
 "nbformat": 4,
 "nbformat_minor": 4
}
