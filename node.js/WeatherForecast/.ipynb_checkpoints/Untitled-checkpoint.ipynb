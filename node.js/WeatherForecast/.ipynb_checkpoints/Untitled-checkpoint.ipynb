{
 "cells": [
  {
   "cell_type": "code",
   "execution_count": 44,
   "metadata": {},
   "outputs": [
    {
     "ename": "ModuleNotFoundError",
     "evalue": "No module named 'xgboost'",
     "output_type": "error",
     "traceback": [
      "\u001b[1;31m---------------------------------------------------------------------------\u001b[0m",
      "\u001b[1;31mModuleNotFoundError\u001b[0m                       Traceback (most recent call last)",
      "\u001b[1;32m<ipython-input-44-62635744cab3>\u001b[0m in \u001b[0;36m<module>\u001b[1;34m\u001b[0m\n\u001b[0;32m      6\u001b[0m \u001b[1;32mfrom\u001b[0m \u001b[0msklearn\u001b[0m\u001b[1;33m.\u001b[0m\u001b[0mlinear_model\u001b[0m \u001b[1;32mimport\u001b[0m \u001b[0mElasticNetCV\u001b[0m\u001b[1;33m\u001b[0m\u001b[1;33m\u001b[0m\u001b[0m\n\u001b[0;32m      7\u001b[0m \u001b[1;32mfrom\u001b[0m \u001b[0msklearn\u001b[0m\u001b[1;33m.\u001b[0m\u001b[0mmodel_selection\u001b[0m \u001b[1;32mimport\u001b[0m \u001b[0mcross_val_score\u001b[0m\u001b[1;33m\u001b[0m\u001b[1;33m\u001b[0m\u001b[0m\n\u001b[1;32m----> 8\u001b[1;33m \u001b[1;32mimport\u001b[0m \u001b[0mxgboost\u001b[0m \u001b[1;32mas\u001b[0m \u001b[0mxgb\u001b[0m\u001b[1;33m\u001b[0m\u001b[1;33m\u001b[0m\u001b[0m\n\u001b[0m",
      "\u001b[1;31mModuleNotFoundError\u001b[0m: No module named 'xgboost'"
     ]
    }
   ],
   "source": [
    "import pandas as pd\n",
    "from sklearn.model_selection import train_test_split\n",
    "from sklearn.preprocessing import StandardScaler\n",
    "from sklearn.linear_model import RidgeCV\n",
    "from sklearn.linear_model import LassoCV\n",
    "from sklearn.linear_model import ElasticNetCV\n",
    "from sklearn.model_selection import cross_val_score\n",
    "import xgboost as xgb"
   ]
  },
  {
   "cell_type": "code",
   "execution_count": 5,
   "metadata": {},
   "outputs": [],
   "source": [
    "df = pd.read_csv(\"weather.csv\")"
   ]
  },
  {
   "cell_type": "code",
   "execution_count": 7,
   "metadata": {},
   "outputs": [],
   "source": [
    "# Drop irrelevant columns\n",
    "df = df.drop(['station', 'year'], axis=1)\n",
    "\n",
    "# Fill in any null values.\n",
    "df = (df.ffill()+df.bfill())/2\n",
    "df = df.bfill().ffill()"
   ]
  },
  {
   "cell_type": "code",
   "execution_count": 10,
   "metadata": {},
   "outputs": [],
   "source": [
    "# Feature engineering\n",
    "df['two_day_rainfall_total_mm'] = df['daily_rainfall_total_mm'] + df['daily_rainfall_total_mm'].shift(1)\n",
    "df['next_day_rainfall_total_mm'] = df['daily_rainfall_total_mm'].shift(-1)\n",
    "df['next_next_day_rainfall_total_mm'] = df['daily_rainfall_total_mm'].shift(-2)\n",
    "df['next_day_maximum_temperature_c'] = df['maximum_temperature_c'].shift(-1)\n",
    "df['next_next_day_maximum_temperature_c'] = df['maximum_temperature_c'].shift(-2)\n",
    "df['next_day_minimum_temperature_c'] = df['minimum_temperature_c'].shift(-1)\n",
    "df['next_next_day_minimum_temperature_c'] = df['minimum_temperature_c'].shift(-2)"
   ]
  },
  {
   "cell_type": "code",
   "execution_count": 12,
   "metadata": {},
   "outputs": [],
   "source": [
    "df = df.dropna()"
   ]
  },
  {
   "cell_type": "code",
   "execution_count": 17,
   "metadata": {},
   "outputs": [],
   "source": [
    "def vif_feature_select(df, max_score=5.0, inplace=False, printable=False, _drops=None):\n",
    "        '''\n",
    "        Takes a DataFrame and returns it after recursively eliminating columns\n",
    "        with the highest VIF scores until the remainder have VIF scores less\n",
    "        than max_score.\n",
    "\n",
    "        params:\n",
    "            printable   when set to True, the function returns a list of\n",
    "                        features that would be dropped instead.\n",
    "        '''\n",
    "        import numpy as np\n",
    "        # Avoids overwriting the original DataFrame by default.\n",
    "        if inplace is False:\n",
    "            df = df.copy()\n",
    "        # Creates an empty list for the first iteration.\n",
    "        if _drops is None:\n",
    "            _drops = []\n",
    "            # Check if features contain string values.\n",
    "            dtypes = [dt for dt in df.dtypes]\n",
    "            if 'object' in dtypes:\n",
    "                print('Feature(s) contain string values. Result may be unreliable.')\n",
    "            # Check if any feature contains all 0s.\n",
    "            if (df == 0).all().any():\n",
    "                raise Exception(\n",
    "                    'Feature(s) contain all 0s. Drop them before use.')\n",
    "        features = df.columns\n",
    "        # VIF is the diagonal of the correlation matrix.\n",
    "        vifs = np.linalg.inv(df.corr().values).diagonal()\n",
    "        max_vif_index = np.argmax(vifs)\n",
    "        # Eliminate feature with the highest VIF score and rerun the function.\n",
    "        if vifs[max_vif_index] >= max_score:\n",
    "            _drops.append(features[max_vif_index])\n",
    "            del df[features[max_vif_index]]\n",
    "            return vif_feature_select(df, max_score, inplace, printable, _drops)\n",
    "        else:\n",
    "            # Returns a list of features that would be dropped instead of a\n",
    "            # DataFrame\n",
    "            if printable:\n",
    "                return _drops\n",
    "            else:\n",
    "                return df"
   ]
  },
  {
   "cell_type": "markdown",
   "metadata": {},
   "source": [
    "# Forecast Rain tomorrow"
   ]
  },
  {
   "cell_type": "code",
   "execution_count": 19,
   "metadata": {},
   "outputs": [],
   "source": [
    "features = ['month', 'day', 'daily_rainfall_total_mm', 'highest_30_min_rainfall_mm',\n",
    "       'highest_60_min_rainfall_mm', 'highest_120_min_rainfall_mm',\n",
    "       'mean_temperature_c', 'maximum_temperature_c', 'minimum_temperature_c',\n",
    "       'mean_wind_speed_kmh', 'max_wind_speed_kmh',\n",
    "       'two_day_rainfall_total_mm']\n",
    "target = 'next_day_rainfall_total_mm'\n",
    "X = df[features]\n",
    "y = df[target].values"
   ]
  },
  {
   "cell_type": "code",
   "execution_count": 21,
   "metadata": {},
   "outputs": [],
   "source": [
    "# Remove high correlated features\n",
    "X = vif_feature_select(X)\n",
    "features = X.columns"
   ]
  },
  {
   "cell_type": "code",
   "execution_count": 27,
   "metadata": {},
   "outputs": [],
   "source": [
    "# Train test split\n",
    "X_train, X_test, y_train, y_test = train_test_split(X, y, random_state=1)"
   ]
  },
  {
   "cell_type": "code",
   "execution_count": 30,
   "metadata": {},
   "outputs": [],
   "source": [
    "# Standard scale\n",
    "ss = StandardScaler()\n",
    "X_train = pd.DataFrame(ss.fit_transform(X_train[features]), columns=features)\n",
    "X_test = pd.DataFrame(ss.transform(X_test[features]), columns=features)"
   ]
  },
  {
   "cell_type": "code",
   "execution_count": 41,
   "metadata": {},
   "outputs": [],
   "source": [
    "ridge_cv = RidgeCV(cv=5)\n",
    "lasso = LassoCV(n_alphas=100, cv=5)\n",
    "elastic = ElasticNetCV(cv=5)"
   ]
  },
  {
   "cell_type": "code",
   "execution_count": 42,
   "metadata": {},
   "outputs": [],
   "source": [
    "ridge_scores = cross_val_score(ridge_cv, X_train, y_train, cv=5)\n",
    "lasso_scores = cross_val_score(lasso, X_train, y_train, cv=5)\n",
    "elastic_scores = cross_val_score(elastic, X_train, y_train, cv=5)"
   ]
  },
  {
   "cell_type": "code",
   "execution_count": 43,
   "metadata": {},
   "outputs": [
    {
     "name": "stdout",
     "output_type": "stream",
     "text": [
      "ridge: -0.01939371599312183\n",
      "lasso: -0.009370093214024466\n",
      "elastic: -0.008978480009192102\n"
     ]
    }
   ],
   "source": [
    "print('ridge:', ridge_scores.mean())\n",
    "print('lasso:', lasso_scores.mean())\n",
    "print('elastic:', elastic_scores.mean())"
   ]
  },
  {
   "cell_type": "code",
   "execution_count": null,
   "metadata": {},
   "outputs": [],
   "source": []
  }
 ],
 "metadata": {
  "kernelspec": {
   "display_name": "Python 3",
   "language": "python",
   "name": "python3"
  },
  "language_info": {
   "codemirror_mode": {
    "name": "ipython",
    "version": 3
   },
   "file_extension": ".py",
   "mimetype": "text/x-python",
   "name": "python",
   "nbconvert_exporter": "python",
   "pygments_lexer": "ipython3",
   "version": "3.7.6"
  }
 },
 "nbformat": 4,
 "nbformat_minor": 4
}
