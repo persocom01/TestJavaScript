{
 "cells": [
  {
   "cell_type": "code",
   "execution_count": 1,
   "metadata": {},
   "outputs": [],
   "source": [
    "import numpy as np\n",
    "import pandas as pd\n",
    "from sklearn.model_selection import train_test_split\n",
    "from sklearn.pipeline import Pipeline\n",
    "from sklearn.model_selection import GridSearchCV\n",
    "from sklearn.ensemble import RandomForestClassifier\n",
    "from sklearn.metrics import classification_report\n",
    "from sklearn.metrics import confusion_matrix\n",
    "import pickle"
   ]
  },
  {
   "cell_type": "code",
   "execution_count": 2,
   "metadata": {},
   "outputs": [],
   "source": [
    "df = pd.read_csv(\"weather.csv\")"
   ]
  },
  {
   "cell_type": "code",
   "execution_count": 3,
   "metadata": {},
   "outputs": [],
   "source": [
    "# Drop irrelevant columns\n",
    "df = df.drop(['station', 'year'], axis=1)\n",
    "\n",
    "# Fill in any null values.\n",
    "df = (df.ffill()+df.bfill())/2\n",
    "df = df.bfill().ffill()"
   ]
  },
  {
   "cell_type": "code",
   "execution_count": 4,
   "metadata": {},
   "outputs": [],
   "source": [
    "# Feature engineering\n",
    "df['rained_today'] = [0 if x < 0.2 else 1 for x in df['daily_rainfall_total_mm']]\n",
    "df['rained_in_two_days'] = df['rained_today'] + df['rained_today'].shift(1)\n",
    "df['rained_in_three_days'] = df['rained_today'] + df['rained_today'].shift(1) + df['rained_today'].shift(2)\n",
    "df['rained_next_day'] = df['rained_today'].shift(-1)\n",
    "df['rained_next_next_day'] = df['rained_today'].shift(-2)\n",
    "df['next_day_maximum_temperature_c'] = df['maximum_temperature_c'].shift(-1)\n",
    "df['next_next_day_maximum_temperature_c'] = df['maximum_temperature_c'].shift(-2)\n",
    "df['next_day_minimum_temperature_c'] = df['minimum_temperature_c'].shift(-1)\n",
    "df['next_next_day_minimum_temperature_c'] = df['minimum_temperature_c'].shift(-2)"
   ]
  },
  {
   "cell_type": "code",
   "execution_count": 5,
   "metadata": {},
   "outputs": [],
   "source": [
    "df = df.dropna()"
   ]
  },
  {
   "cell_type": "code",
   "execution_count": 6,
   "metadata": {},
   "outputs": [
    {
     "data": {
      "text/plain": [
       "Index(['month', 'day', 'daily_rainfall_total_mm', 'highest_30_min_rainfall_mm',\n",
       "       'highest_60_min_rainfall_mm', 'highest_120_min_rainfall_mm',\n",
       "       'mean_temperature_c', 'maximum_temperature_c', 'minimum_temperature_c',\n",
       "       'mean_wind_speed_kmh', 'max_wind_speed_kmh', 'rained_today',\n",
       "       'rained_in_two_days', 'rained_in_three_days', 'rained_next_day',\n",
       "       'rained_next_next_day', 'next_day_maximum_temperature_c',\n",
       "       'next_next_day_maximum_temperature_c', 'next_day_minimum_temperature_c',\n",
       "       'next_next_day_minimum_temperature_c'],\n",
       "      dtype='object')"
      ]
     },
     "execution_count": 6,
     "metadata": {},
     "output_type": "execute_result"
    }
   ],
   "source": [
    "df.columns"
   ]
  },
  {
   "cell_type": "markdown",
   "metadata": {},
   "source": [
    "# Forecast rain tomorrow"
   ]
  },
  {
   "cell_type": "code",
   "execution_count": 7,
   "metadata": {},
   "outputs": [],
   "source": [
    "features = ['month', 'day', 'rained_today', 'highest_30_min_rainfall_mm',\n",
    "       'highest_60_min_rainfall_mm', 'highest_120_min_rainfall_mm',\n",
    "       'mean_temperature_c', 'maximum_temperature_c', 'minimum_temperature_c',\n",
    "       'mean_wind_speed_kmh', 'max_wind_speed_kmh',\n",
    "       'rained_in_two_days']\n",
    "target = 'rained_next_day'\n",
    "X = df[features]\n",
    "y = df[target].values"
   ]
  },
  {
   "cell_type": "code",
   "execution_count": 8,
   "metadata": {},
   "outputs": [],
   "source": [
    "# Train test split\n",
    "X_train, X_test, y_train, y_test = train_test_split(X, y, random_state=1)"
   ]
  },
  {
   "cell_type": "code",
   "execution_count": 9,
   "metadata": {},
   "outputs": [],
   "source": [
    "rf = RandomForestClassifier()\n",
    "rf.fit(X_train, y_train)\n",
    "pickle.dump(rf, open(r'.\\flaskapp\\models\\model_next_day_rainfall.sav', 'wb'))"
   ]
  },
  {
   "cell_type": "code",
   "execution_count": 10,
   "metadata": {},
   "outputs": [],
   "source": [
    "y_pred = rf.predict(X_test)\n",
    "y_prob = rf.predict_proba(X_test)"
   ]
  },
  {
   "cell_type": "code",
   "execution_count": 11,
   "metadata": {},
   "outputs": [
    {
     "data": {
      "text/plain": [
       "52.74725274725275"
      ]
     },
     "execution_count": 11,
     "metadata": {},
     "output_type": "execute_result"
    }
   ],
   "source": [
    "# Calculate baseline probability.\n",
    "baseline_accuracy = np.count_nonzero(y_test)/len(y_test)*100\n",
    "if baseline_accuracy <= 50:\n",
    "    baseline_accuracy = 100 - baseline_accuracy\n",
    "baseline_accuracy"
   ]
  },
  {
   "cell_type": "code",
   "execution_count": 12,
   "metadata": {},
   "outputs": [
    {
     "data": {
      "text/plain": [
       "0.52"
      ]
     },
     "execution_count": 12,
     "metadata": {},
     "output_type": "execute_result"
    }
   ],
   "source": [
    "# Model certainty of prediction.\n",
    "y_prob[0].max()"
   ]
  },
  {
   "cell_type": "code",
   "execution_count": 13,
   "metadata": {},
   "outputs": [
    {
     "name": "stdout",
     "output_type": "stream",
     "text": [
      "classification report:\n",
      "              precision    recall  f1-score   support\n",
      "\n",
      "         0.0       0.64      0.67      0.66       144\n",
      "         1.0       0.61      0.58      0.60       129\n",
      "\n",
      "    accuracy                           0.63       273\n",
      "   macro avg       0.63      0.63      0.63       273\n",
      "weighted avg       0.63      0.63      0.63       273\n",
      "\n"
     ]
    }
   ],
   "source": [
    "print('classification report:')\n",
    "print(classification_report(y_test, y_pred, output_dict=False))"
   ]
  },
  {
   "cell_type": "code",
   "execution_count": 14,
   "metadata": {},
   "outputs": [
    {
     "name": "stdout",
     "output_type": "stream",
     "text": [
      "confusion matrix:\n",
      "[[97 47]\n",
      " [54 75]]\n"
     ]
    }
   ],
   "source": [
    "print('confusion matrix:')\n",
    "print(confusion_matrix(y_test, y_pred))"
   ]
  },
  {
   "cell_type": "markdown",
   "metadata": {},
   "source": [
    "# Forecast rain in 2 days"
   ]
  },
  {
   "cell_type": "code",
   "execution_count": 15,
   "metadata": {},
   "outputs": [],
   "source": [
    "features = ['month', 'day', 'rained_today', 'highest_30_min_rainfall_mm',\n",
    "       'highest_60_min_rainfall_mm', 'highest_120_min_rainfall_mm',\n",
    "       'mean_temperature_c', 'maximum_temperature_c', 'minimum_temperature_c',\n",
    "       'mean_wind_speed_kmh', 'max_wind_speed_kmh',\n",
    "       'rained_in_three_days']\n",
    "target = 'rained_next_next_day'\n",
    "X = df[features]\n",
    "y = df[target].values"
   ]
  },
  {
   "cell_type": "code",
   "execution_count": 16,
   "metadata": {},
   "outputs": [],
   "source": [
    "# Train test split\n",
    "X_train, X_test, y_train, y_test = train_test_split(X, y, random_state=1)"
   ]
  },
  {
   "cell_type": "code",
   "execution_count": 17,
   "metadata": {},
   "outputs": [],
   "source": [
    "rf = RandomForestClassifier()\n",
    "rf.fit(X_train, y_train)\n",
    "pickle.dump(rf, open(r'.\\flaskapp\\models\\model_next_next_day_rainfall.sav', 'wb'))"
   ]
  },
  {
   "cell_type": "code",
   "execution_count": 18,
   "metadata": {},
   "outputs": [],
   "source": [
    "y_pred = rf.predict(X_test)\n",
    "y_prob = rf.predict_proba(X_test)"
   ]
  },
  {
   "cell_type": "code",
   "execution_count": 19,
   "metadata": {},
   "outputs": [
    {
     "data": {
      "text/plain": [
       "50.91575091575092"
      ]
     },
     "execution_count": 19,
     "metadata": {},
     "output_type": "execute_result"
    }
   ],
   "source": [
    "# Calculate baseline probability.\n",
    "baseline_accuracy = np.count_nonzero(y_test)/len(y_test)*100\n",
    "if baseline_accuracy <= 50:\n",
    "    baseline_accuracy = 100 - baseline_accuracy\n",
    "baseline_accuracy"
   ]
  },
  {
   "cell_type": "code",
   "execution_count": 20,
   "metadata": {},
   "outputs": [
    {
     "data": {
      "text/plain": [
       "1.0"
      ]
     },
     "execution_count": 20,
     "metadata": {},
     "output_type": "execute_result"
    }
   ],
   "source": [
    "y_pred[0]"
   ]
  },
  {
   "cell_type": "code",
   "execution_count": 21,
   "metadata": {},
   "outputs": [
    {
     "data": {
      "text/plain": [
       "0.63"
      ]
     },
     "execution_count": 21,
     "metadata": {},
     "output_type": "execute_result"
    }
   ],
   "source": [
    "# Model certainty of prediction.\n",
    "y_prob[0][1]"
   ]
  },
  {
   "cell_type": "code",
   "execution_count": 22,
   "metadata": {},
   "outputs": [
    {
     "name": "stdout",
     "output_type": "stream",
     "text": [
      "classification report:\n",
      "              precision    recall  f1-score   support\n",
      "\n",
      "         0.0       0.60      0.71      0.65       139\n",
      "         1.0       0.63      0.51      0.57       134\n",
      "\n",
      "    accuracy                           0.62       273\n",
      "   macro avg       0.62      0.61      0.61       273\n",
      "weighted avg       0.62      0.62      0.61       273\n",
      "\n"
     ]
    }
   ],
   "source": [
    "print('classification report:')\n",
    "print(classification_report(y_test, y_pred, output_dict=False))"
   ]
  },
  {
   "cell_type": "code",
   "execution_count": 23,
   "metadata": {},
   "outputs": [
    {
     "name": "stdout",
     "output_type": "stream",
     "text": [
      "confusion matrix:\n",
      "[[99 40]\n",
      " [65 69]]\n"
     ]
    }
   ],
   "source": [
    "print('confusion matrix:')\n",
    "print(confusion_matrix(y_test, y_pred))"
   ]
  },
  {
   "cell_type": "code",
   "execution_count": null,
   "metadata": {},
   "outputs": [],
   "source": []
  }
 ],
 "metadata": {
  "kernelspec": {
   "display_name": "Python 3",
   "language": "python",
   "name": "python3"
  },
  "language_info": {
   "codemirror_mode": {
    "name": "ipython",
    "version": 3
   },
   "file_extension": ".py",
   "mimetype": "text/x-python",
   "name": "python",
   "nbconvert_exporter": "python",
   "pygments_lexer": "ipython3",
   "version": "3.7.6"
  }
 },
 "nbformat": 4,
 "nbformat_minor": 4
}
