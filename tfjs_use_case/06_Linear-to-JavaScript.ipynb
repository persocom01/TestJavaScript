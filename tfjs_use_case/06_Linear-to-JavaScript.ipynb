{
 "cells": [
  {
   "cell_type": "code",
   "execution_count": 1,
   "metadata": {
    "colab": {},
    "colab_type": "code",
    "id": "zX4Kg8DUTKWO"
   },
   "outputs": [],
   "source": [
    "#@title Licensed under the Apache License, Version 2.0 (the \"License\");\n",
    "# you may not use this file except in compliance with the License.\n",
    "# You may obtain a copy of the License at\n",
    "#\n",
    "# https://www.apache.org/licenses/LICENSE-2.0\n",
    "#\n",
    "# Unless required by applicable law or agreed to in writing, software\n",
    "# distributed under the License is distributed on an \"AS IS\" BASIS,\n",
    "# WITHOUT WARRANTIES OR CONDITIONS OF ANY KIND, either express or implied.\n",
    "# See the License for the specific language governing permissions and\n",
    "# limitations under the License."
   ]
  },
  {
   "cell_type": "code",
   "execution_count": null,
   "metadata": {
    "colab": {
     "base_uri": "https://localhost:8080/",
     "height": 992
    },
    "colab_type": "code",
    "id": "pLTlDFwU1Ux_",
    "outputId": "35a170f8-c16f-48b5-a68a-d456338467eb"
   },
   "outputs": [],
   "source": [
    "!pip install tensorflowjs"
   ]
  },
  {
   "cell_type": "code",
   "execution_count": 2,
   "metadata": {
    "colab": {
     "base_uri": "https://localhost:8080/",
     "height": 18235
    },
    "colab_type": "code",
    "id": "vNHv1d2K0Wxg",
    "outputId": "109c8bc7-6d51-4f0a-d3a6-f2943221ff49"
   },
   "outputs": [
    {
     "name": "stdout",
     "output_type": "stream",
     "text": [
      "• Using TensorFlow Version: 2.1.0\n"
     ]
    }
   ],
   "source": [
    "import numpy as np\n",
    "import tensorflow as tf\n",
    "\n",
    "print('\\u2022 Using TensorFlow Version:', tf.__version__)"
   ]
  },
  {
   "cell_type": "code",
   "execution_count": 3,
   "metadata": {},
   "outputs": [
    {
     "name": "stdout",
     "output_type": "stream",
     "text": [
      "Train on 6 samples\n",
      "Epoch 1/100\n",
      "6/6 [==============================] - 2s 276ms/sample - loss: 11.9067\n",
      "Epoch 2/100\n",
      "6/6 [==============================] - 0s 326us/sample - loss: 9.5902\n",
      "Epoch 3/100\n",
      "6/6 [==============================] - 0s 488us/sample - loss: 7.7630\n",
      "Epoch 4/100\n",
      "6/6 [==============================] - 0s 486us/sample - loss: 6.3210\n",
      "Epoch 5/100\n",
      "6/6 [==============================] - 0s 325us/sample - loss: 5.1822\n",
      "Epoch 6/100\n",
      "6/6 [==============================] - 0s 325us/sample - loss: 4.2819\n",
      "Epoch 7/100\n",
      "6/6 [==============================] - 0s 488us/sample - loss: 3.5694\n",
      "Epoch 8/100\n",
      "6/6 [==============================] - 0s 325us/sample - loss: 3.0047\n",
      "Epoch 9/100\n",
      "6/6 [==============================] - 0s 325us/sample - loss: 2.5564\n",
      "Epoch 10/100\n",
      "6/6 [==============================] - 0s 325us/sample - loss: 2.1997\n",
      "Epoch 11/100\n",
      "6/6 [==============================] - 0s 325us/sample - loss: 1.9152\n",
      "Epoch 12/100\n",
      "6/6 [==============================] - 0s 325us/sample - loss: 1.6876\n",
      "Epoch 13/100\n",
      "6/6 [==============================] - 0s 488us/sample - loss: 1.5048\n",
      "Epoch 14/100\n",
      "6/6 [==============================] - 0s 488us/sample - loss: 1.3574\n",
      "Epoch 15/100\n",
      "6/6 [==============================] - 0s 325us/sample - loss: 1.2378\n",
      "Epoch 16/100\n",
      "6/6 [==============================] - 0s 325us/sample - loss: 1.1403\n",
      "Epoch 17/100\n",
      "6/6 [==============================] - 0s 325us/sample - loss: 1.0601\n",
      "Epoch 18/100\n",
      "6/6 [==============================] - 0s 325us/sample - loss: 0.9937\n",
      "Epoch 19/100\n",
      "6/6 [==============================] - 0s 488us/sample - loss: 0.9381\n",
      "Epoch 20/100\n",
      "6/6 [==============================] - 0s 325us/sample - loss: 0.8912\n",
      "Epoch 21/100\n",
      "6/6 [==============================] - 0s 488us/sample - loss: 0.8512\n",
      "Epoch 22/100\n",
      "6/6 [==============================] - 0s 488us/sample - loss: 0.8166\n",
      "Epoch 23/100\n",
      "6/6 [==============================] - 0s 650us/sample - loss: 0.7864\n",
      "Epoch 24/100\n",
      "6/6 [==============================] - 0s 488us/sample - loss: 0.7596\n",
      "Epoch 25/100\n",
      "6/6 [==============================] - 0s 488us/sample - loss: 0.7357\n",
      "Epoch 26/100\n",
      "6/6 [==============================] - 0s 813us/sample - loss: 0.7140\n",
      "Epoch 27/100\n",
      "6/6 [==============================] - 0s 488us/sample - loss: 0.6942\n",
      "Epoch 28/100\n",
      "6/6 [==============================] - 0s 488us/sample - loss: 0.6759\n",
      "Epoch 29/100\n",
      "6/6 [==============================] - 0s 325us/sample - loss: 0.6588\n",
      "Epoch 30/100\n",
      "6/6 [==============================] - 0s 975us/sample - loss: 0.6428\n",
      "Epoch 31/100\n",
      "6/6 [==============================] - 0s 325us/sample - loss: 0.6276\n",
      "Epoch 32/100\n",
      "6/6 [==============================] - 0s 325us/sample - loss: 0.6132\n",
      "Epoch 33/100\n",
      "6/6 [==============================] - 0s 488us/sample - loss: 0.5993\n",
      "Epoch 34/100\n",
      "6/6 [==============================] - 0s 325us/sample - loss: 0.5861\n",
      "Epoch 35/100\n",
      "6/6 [==============================] - 0s 488us/sample - loss: 0.5733\n",
      "Epoch 36/100\n",
      "6/6 [==============================] - 0s 325us/sample - loss: 0.5609\n",
      "Epoch 37/100\n",
      "6/6 [==============================] - 0s 488us/sample - loss: 0.5489\n",
      "Epoch 38/100\n",
      "6/6 [==============================] - 0s 650us/sample - loss: 0.5373\n",
      "Epoch 39/100\n",
      "6/6 [==============================] - 0s 813us/sample - loss: 0.5259\n",
      "Epoch 40/100\n",
      "6/6 [==============================] - 0s 650us/sample - loss: 0.5149\n",
      "Epoch 41/100\n",
      "6/6 [==============================] - 0s 488us/sample - loss: 0.5041\n",
      "Epoch 42/100\n",
      "6/6 [==============================] - 0s 325us/sample - loss: 0.4937\n",
      "Epoch 43/100\n",
      "6/6 [==============================] - 0s 488us/sample - loss: 0.4834\n",
      "Epoch 44/100\n",
      "6/6 [==============================] - 0s 325us/sample - loss: 0.4734\n",
      "Epoch 45/100\n",
      "6/6 [==============================] - 0s 488us/sample - loss: 0.4636\n",
      "Epoch 46/100\n",
      "6/6 [==============================] - 0s 650us/sample - loss: 0.4540\n",
      "Epoch 47/100\n",
      "6/6 [==============================] - 0s 325us/sample - loss: 0.4446\n",
      "Epoch 48/100\n",
      "6/6 [==============================] - 0s 325us/sample - loss: 0.4355\n",
      "Epoch 49/100\n",
      "6/6 [==============================] - 0s 488us/sample - loss: 0.4265\n",
      "Epoch 50/100\n",
      "6/6 [==============================] - 0s 975us/sample - loss: 0.4177\n",
      "Epoch 51/100\n",
      "6/6 [==============================] - 0s 325us/sample - loss: 0.4091\n",
      "Epoch 52/100\n",
      "6/6 [==============================] - 0s 325us/sample - loss: 0.4007\n",
      "Epoch 53/100\n",
      "6/6 [==============================] - 0s 487us/sample - loss: 0.3925\n",
      "Epoch 54/100\n",
      "6/6 [==============================] - 0s 325us/sample - loss: 0.3844\n",
      "Epoch 55/100\n",
      "6/6 [==============================] - 0s 325us/sample - loss: 0.3765\n",
      "Epoch 56/100\n",
      "6/6 [==============================] - 0s 325us/sample - loss: 0.3688\n",
      "Epoch 57/100\n",
      "6/6 [==============================] - 0s 488us/sample - loss: 0.3612\n",
      "Epoch 58/100\n",
      "6/6 [==============================] - 0s 325us/sample - loss: 0.3538\n",
      "Epoch 59/100\n",
      "6/6 [==============================] - 0s 325us/sample - loss: 0.3465\n",
      "Epoch 60/100\n",
      "6/6 [==============================] - 0s 325us/sample - loss: 0.3394\n",
      "Epoch 61/100\n",
      "6/6 [==============================] - 0s 488us/sample - loss: 0.3324\n",
      "Epoch 62/100\n",
      "6/6 [==============================] - 0s 488us/sample - loss: 0.3256\n",
      "Epoch 63/100\n",
      "6/6 [==============================] - 0s 488us/sample - loss: 0.3189\n",
      "Epoch 64/100\n",
      "6/6 [==============================] - 0s 487us/sample - loss: 0.3123\n",
      "Epoch 65/100\n",
      "6/6 [==============================] - 0s 488us/sample - loss: 0.3059\n",
      "Epoch 66/100\n",
      "6/6 [==============================] - 0s 488us/sample - loss: 0.2996\n",
      "Epoch 67/100\n",
      "6/6 [==============================] - 0s 325us/sample - loss: 0.2935\n",
      "Epoch 68/100\n",
      "6/6 [==============================] - 0s 325us/sample - loss: 0.2874\n",
      "Epoch 69/100\n",
      "6/6 [==============================] - 0s 325us/sample - loss: 0.2815\n",
      "Epoch 70/100\n",
      "6/6 [==============================] - 0s 1ms/sample - loss: 0.2758\n",
      "Epoch 71/100\n",
      "6/6 [==============================] - 0s 325us/sample - loss: 0.2701\n",
      "Epoch 72/100\n",
      "6/6 [==============================] - 0s 488us/sample - loss: 0.2645\n",
      "Epoch 73/100\n",
      "6/6 [==============================] - 0s 650us/sample - loss: 0.2591\n",
      "Epoch 74/100\n",
      "6/6 [==============================] - 0s 650us/sample - loss: 0.2538\n",
      "Epoch 75/100\n",
      "6/6 [==============================] - 0s 488us/sample - loss: 0.2486\n",
      "Epoch 76/100\n",
      "6/6 [==============================] - 0s 325us/sample - loss: 0.2435\n",
      "Epoch 77/100\n",
      "6/6 [==============================] - 0s 488us/sample - loss: 0.2385\n",
      "Epoch 78/100\n",
      "6/6 [==============================] - 0s 325us/sample - loss: 0.2336\n",
      "Epoch 79/100\n",
      "6/6 [==============================] - 0s 488us/sample - loss: 0.2288\n",
      "Epoch 80/100\n",
      "6/6 [==============================] - 0s 163us/sample - loss: 0.2241\n",
      "Epoch 81/100\n",
      "6/6 [==============================] - 0s 163us/sample - loss: 0.2195\n",
      "Epoch 82/100\n",
      "6/6 [==============================] - 0s 325us/sample - loss: 0.2150\n",
      "Epoch 83/100\n",
      "6/6 [==============================] - 0s 1ms/sample - loss: 0.2106\n",
      "Epoch 84/100\n",
      "6/6 [==============================] - 0s 325us/sample - loss: 0.2062\n",
      "Epoch 85/100\n",
      "6/6 [==============================] - 0s 325us/sample - loss: 0.2020\n",
      "Epoch 86/100\n",
      "6/6 [==============================] - 0s 488us/sample - loss: 0.1978\n",
      "Epoch 87/100\n",
      "6/6 [==============================] - 0s 163us/sample - loss: 0.1938\n",
      "Epoch 88/100\n",
      "6/6 [==============================] - 0s 325us/sample - loss: 0.1898\n",
      "Epoch 89/100\n",
      "6/6 [==============================] - 0s 325us/sample - loss: 0.1859\n",
      "Epoch 90/100\n",
      "6/6 [==============================] - 0s 488us/sample - loss: 0.1821\n",
      "Epoch 91/100\n",
      "6/6 [==============================] - 0s 325us/sample - loss: 0.1783\n",
      "Epoch 92/100\n",
      "6/6 [==============================] - 0s 650us/sample - loss: 0.1747\n",
      "Epoch 93/100\n",
      "6/6 [==============================] - 0s 325us/sample - loss: 0.1711\n",
      "Epoch 94/100\n",
      "6/6 [==============================] - 0s 325us/sample - loss: 0.1676\n",
      "Epoch 95/100\n",
      "6/6 [==============================] - 0s 325us/sample - loss: 0.1641\n",
      "Epoch 96/100\n",
      "6/6 [==============================] - 0s 325us/sample - loss: 0.1608\n",
      "Epoch 97/100\n",
      "6/6 [==============================] - 0s 325us/sample - loss: 0.1575\n",
      "Epoch 98/100\n",
      "6/6 [==============================] - 0s 163us/sample - loss: 0.1542\n",
      "Epoch 99/100\n",
      "6/6 [==============================] - 0s 975us/sample - loss: 0.1511\n"
     ]
    },
    {
     "name": "stdout",
     "output_type": "stream",
     "text": [
      "Epoch 100/100\n",
      "\r",
      "6/6 [==============================] - 0s 325us/sample - loss: 0.1480\n"
     ]
    },
    {
     "data": {
      "text/plain": [
       "<tensorflow.python.keras.callbacks.History at 0x1b1eb51b348>"
      ]
     },
     "execution_count": 3,
     "metadata": {},
     "output_type": "execute_result"
    }
   ],
   "source": [
    "model = tf.keras.models.Sequential([\n",
    "        tf.keras.layers.Dense(units=1, input_shape=[1])  \n",
    "])\n",
    "\n",
    "model.compile(optimizer='sgd', loss='mean_squared_error')\n",
    "\n",
    "# Training data. y = -1 + 2x\n",
    "xs = np.array([-1.0,  0.0, 1.0, 2.0, 3.0, 4.0], dtype=float)\n",
    "ys = np.array([-3.0, -1.0, 1.0, 3.0, 5.0, 7.0], dtype=float)\n",
    "\n",
    "model.fit(xs, ys, epochs=100)"
   ]
  },
  {
   "cell_type": "code",
   "execution_count": 4,
   "metadata": {
    "colab": {
     "base_uri": "https://localhost:8080/",
     "height": 35
    },
    "colab_type": "code",
    "id": "AxSZ4DzJGEKy",
    "outputId": "00023ac5-58cb-4e09-9ac0-9ae8ae59f846"
   },
   "outputs": [
    {
     "name": "stdout",
     "output_type": "stream",
     "text": [
      "[[17.877674]]\n"
     ]
    }
   ],
   "source": [
    "print(model.predict([10.0]))"
   ]
  },
  {
   "cell_type": "code",
   "execution_count": 5,
   "metadata": {},
   "outputs": [],
   "source": [
    "import time\n",
    "saved_model_path = \"./{}.h5\".format(int(time.time()))\n",
    "\n",
    "# Saves a time.h5 file in the same folder, where time == time.time() == seconds since epoch start (1970).\n",
    "model.save(saved_model_path)"
   ]
  },
  {
   "cell_type": "code",
   "execution_count": 6,
   "metadata": {},
   "outputs": [],
   "source": [
    "# Produces a group1-shard1of1.bin as well as a model.json file, both of which are essential.\n",
    "!tensorflowjs_converter --input_format=keras {saved_model_path} ./"
   ]
  },
  {
   "cell_type": "code",
   "execution_count": null,
   "metadata": {},
   "outputs": [],
   "source": []
  }
 ],
 "metadata": {
  "accelerator": "GPU",
  "colab": {
   "collapsed_sections": [],
   "name": "Linear-to-JavaScript.ipynb",
   "provenance": [],
   "toc_visible": true,
   "version": "0.3.2"
  },
  "kernelspec": {
   "display_name": "Python 3",
   "language": "python",
   "name": "python3"
  },
  "language_info": {
   "codemirror_mode": {
    "name": "ipython",
    "version": 3
   },
   "file_extension": ".py",
   "mimetype": "text/x-python",
   "name": "python",
   "nbconvert_exporter": "python",
   "pygments_lexer": "ipython3",
   "version": "3.7.6"
  }
 },
 "nbformat": 4,
 "nbformat_minor": 1
}
